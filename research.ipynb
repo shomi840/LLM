{
 "cells": [
  {
   "cell_type": "code",
   "execution_count": 1,
   "id": "65e0f194",
   "metadata": {},
   "outputs": [
    {
     "name": "stdout",
     "output_type": "stream",
     "text": [
      "okey\n"
     ]
    }
   ],
   "source": [
    "print(\"okey\")"
   ]
  },
  {
   "cell_type": "code",
   "execution_count": null,
   "id": "407ead4f",
   "metadata": {},
   "outputs": [
    {
     "ename": "ModuleNotFoundError",
     "evalue": "No module named 'moviepy.editor'",
     "output_type": "error",
     "traceback": [
      "\u001b[31m---------------------------------------------------------------------------\u001b[39m",
      "\u001b[31mModuleNotFoundError\u001b[39m                       Traceback (most recent call last)",
      "\u001b[36mCell\u001b[39m\u001b[36m \u001b[39m\u001b[32mIn[9]\u001b[39m\u001b[32m, line 1\u001b[39m\n\u001b[32m----> \u001b[39m\u001b[32m1\u001b[39m \u001b[38;5;28;01mfrom\u001b[39;00m\u001b[38;5;250m \u001b[39m\u001b[34;01mmoviepy\u001b[39;00m\u001b[34;01m.\u001b[39;00m\u001b[34;01meditor\u001b[39;00m\u001b[38;5;250m \u001b[39m\u001b[38;5;28;01mimport\u001b[39;00m VideoFileClip\n",
      "\u001b[31mModuleNotFoundError\u001b[39m: No module named 'moviepy.editor'"
     ]
    }
   ],
   "source": [
    "#from moviepy.editor import VideoFileClip"
   ]
  },
  {
   "cell_type": "code",
   "execution_count": 10,
   "id": "66d16d5b",
   "metadata": {},
   "outputs": [],
   "source": [
    "import os\n",
    "import requests\n",
    "\n",
    "def download_video(url, filename=\"input_video.mp4\"):\n",
    "    r = requests.get(url)\n",
    "    with open(filename, \"wb\") as f:\n",
    "        f.write(r.content)\n",
    "    return filename\n",
    "\n",
    "def extract_audio_with_ffmpeg(video_path, audio_path=\"extracted_audio.wav\"):\n",
    "    os.system(f\"ffmpeg -i {video_path} -q:a 0 -map a {audio_path}\")\n",
    "    return audio_path"
   ]
  },
  {
   "cell_type": "code",
   "execution_count": 11,
   "id": "da060617",
   "metadata": {},
   "outputs": [
    {
     "name": "stderr",
     "output_type": "stream",
     "text": [
      "f:\\Agentic RAG\\Accent Detection Model usin OpenAI\\venv\\Lib\\site-packages\\tqdm\\auto.py:21: TqdmWarning: IProgress not found. Please update jupyter and ipywidgets. See https://ipywidgets.readthedocs.io/en/stable/user_install.html\n",
      "  from .autonotebook import tqdm as notebook_tqdm\n",
      "Some weights of Wav2Vec2ForSequenceClassification were not initialized from the model checkpoint at facebook/wav2vec2-large-960h-lv60-self and are newly initialized: ['classifier.bias', 'classifier.weight', 'projector.bias', 'projector.weight', 'wav2vec2.masked_spec_embed']\n",
      "You should probably TRAIN this model on a down-stream task to be able to use it for predictions and inference.\n"
     ]
    }
   ],
   "source": [
    "from transformers import Wav2Vec2Processor, Wav2Vec2ForSequenceClassification\n",
    "import torch\n",
    "import torchaudio\n",
    "\n",
    "# Load model\n",
    "model_name = \"facebook/wav2vec2-large-960h-lv60-self\"\n",
    "processor = Wav2Vec2Processor.from_pretrained(model_name)\n",
    "model = Wav2Vec2ForSequenceClassification.from_pretrained(model_name)\n",
    "\n",
    "def predict_accent(audio_path):\n",
    "    waveform, sample_rate = torchaudio.load(audio_path)\n",
    "    inputs = processor(waveform.squeeze(), sampling_rate=sample_rate, return_tensors=\"pt\", padding=True)\n",
    "    \n",
    "    with torch.no_grad():\n",
    "        logits = model(**inputs).logits\n",
    "    \n",
    "    predicted_id = torch.argmax(logits, dim=-1).item()\n",
    "    confidence = torch.softmax(logits, dim=-1).max().item()\n",
    "\n",
    "    # class names  \n",
    "    accent_classes = [\"American\", \"British\", \"Australian\"]\n",
    "    predicted_class = accent_classes[predicted_id % len(accent_classes)]\n",
    "\n",
    "    return predicted_class, round(confidence * 100, 2)"
   ]
  },
  {
   "cell_type": "code",
   "execution_count": 12,
   "id": "af22721c",
   "metadata": {},
   "outputs": [],
   "source": [
    "def main(video_url):\n",
    "    video_path = download_video(video_url)\n",
    "    audio_path = extract_audio(video_path)\n",
    "    accent, score = predict_accent(audio_path)\n",
    "    \n",
    "    print(\"Accent Detected:\", accent)\n",
    "    print(\"Confidence Score:\", score, \"%\")"
   ]
  },
  {
   "cell_type": "code",
   "execution_count": null,
   "id": "3b68697d",
   "metadata": {},
   "outputs": [],
   "source": []
  }
 ],
 "metadata": {
  "kernelspec": {
   "display_name": "venv",
   "language": "python",
   "name": "python3"
  },
  "language_info": {
   "codemirror_mode": {
    "name": "ipython",
    "version": 3
   },
   "file_extension": ".py",
   "mimetype": "text/x-python",
   "name": "python",
   "nbconvert_exporter": "python",
   "pygments_lexer": "ipython3",
   "version": "3.11.8"
  }
 },
 "nbformat": 4,
 "nbformat_minor": 5
}
